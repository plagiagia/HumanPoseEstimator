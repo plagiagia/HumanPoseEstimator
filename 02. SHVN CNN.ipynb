{
 "cells": [
  {
   "cell_type": "markdown",
   "metadata": {},
   "source": [
    "# CNN architecture  with Pytorch"
   ]
  },
  {
   "cell_type": "code",
   "execution_count": 1,
   "metadata": {},
   "outputs": [],
   "source": [
    "import torch\n",
    "import torch.nn.functional as F\n",
    "import torch.nn as nn\n",
    "import torch.utils.data as data_utils\n",
    "import torchvision.transforms as transforms\n",
    "from scipy.io import loadmat\n",
    "import os\n",
    "import numpy as np\n",
    "import matplotlib.pyplot as plt"
   ]
  },
  {
   "cell_type": "code",
   "execution_count": 2,
   "metadata": {},
   "outputs": [],
   "source": [
    "# Load the data from the SVHN dataset\n",
    "train = loadmat('train_32x32.mat')\n",
    "test = loadmat('test_32x32.mat')\n",
    "# Change the labels for number 0\n",
    "train['y'][train['y'] == 10] = 0\n",
    "test['y'][test['y'] == 10] = 0"
   ]
  },
  {
   "cell_type": "code",
   "execution_count": 3,
   "metadata": {},
   "outputs": [
    {
     "name": "stdout",
     "output_type": "stream",
     "text": [
      "Train features shape: (32, 32, 3, 73257)\n",
      "Test features shape: (32, 32, 3, 26032)\n",
      "Train labels shape: (73257, 1)\n",
      "Test labels shape: (26032, 1)\n"
     ]
    }
   ],
   "source": [
    "print(\"Train features shape: {}\".format(train['X'].shape))\n",
    "print(\"Test features shape: {}\".format(test['X'].shape))\n",
    "print(\"Train labels shape: {}\".format(train['y'].shape))\n",
    "print(\"Test labels shape: {}\".format(test['y'].shape))"
   ]
  },
  {
   "cell_type": "markdown",
   "metadata": {},
   "source": [
    "We have 73257 train samples, each one represent a picture 32x32 with 3 color channels (RGB). For the test data we have 26032 samples. Pytorch accepts images in a different format, as first dimension is given the batch followed by the color channel and then the image height and width. We have to transpose the image and convert it to float. We also squeeze the labels so they will be a one dimensional array and we convert them to long type."
   ]
  },
  {
   "cell_type": "code",
   "execution_count": 4,
   "metadata": {},
   "outputs": [],
   "source": [
    "# Turn data into tensors\n",
    "train_features_tensor = torch.from_numpy(train['X'] / 255.).permute(3, 2, 0, 1).float()\n",
    "train_labels_tensor = torch.from_numpy(train['y']).squeeze().long()\n",
    "\n",
    "test_features_tensor = torch.from_numpy(test['X'] / 255.).permute(3, 2, 0, 1).float()\n",
    "test_labels_tensor = torch.from_numpy(test['y']).squeeze().long()"
   ]
  },
  {
   "cell_type": "code",
   "execution_count": 5,
   "metadata": {},
   "outputs": [
    {
     "name": "stdout",
     "output_type": "stream",
     "text": [
      "Train features shape: torch.Size([73257, 3, 32, 32])\n",
      "Train labels shape: torch.Size([73257])\n",
      "Test features shape: torch.Size([26032, 3, 32, 32])\n",
      "Test labels shape: torch.Size([26032])\n"
     ]
    }
   ],
   "source": [
    "print(\"Train features shape: {}\".format(train_features_tensor.shape))\n",
    "print(\"Train labels shape: {}\".format(train_labels_tensor.shape))\n",
    "print(\"Test features shape: {}\".format(test_features_tensor.shape))\n",
    "print(\"Test labels shape: {}\".format(test_labels_tensor.shape))"
   ]
  },
  {
   "cell_type": "code",
   "execution_count": 6,
   "metadata": {},
   "outputs": [],
   "source": [
    "# Make a data loader\n",
    "train_dataset = data_utils.TensorDataset(train_features_tensor, train_labels_tensor)\n",
    "test_dataset = data_utils.TensorDataset(test_features_tensor, test_labels_tensor)"
   ]
  },
  {
   "cell_type": "code",
   "execution_count": 7,
   "metadata": {},
   "outputs": [],
   "source": [
    "train_loader = torch.utils.data.DataLoader(train_dataset,\n",
    "                                           batch_size=32,\n",
    "                                           shuffle=True,\n",
    "                                           num_workers=2)\n",
    "\n",
    "test_loader = torch.utils.data.DataLoader(test_dataset,\n",
    "                                          batch_size=32,\n",
    "                                          shuffle=True,\n",
    "                                          num_workers=2)"
   ]
  },
  {
   "cell_type": "code",
   "execution_count": 8,
   "metadata": {},
   "outputs": [],
   "source": [
    "# Build the network\n",
    "in_channels = 3\n",
    "\n",
    "out_channels_1 = 16\n",
    "out_channels_2 = 32\n",
    "\n",
    "out1_size = 1000\n",
    "out2_size = 10\n",
    "\n",
    "kernel_size = (5,5)\n",
    "\n",
    "\n",
    "class ConvNet(nn.Module):\n",
    "    def __init__(self):\n",
    "        super(ConvNet, self).__init__()\n",
    "\n",
    "        # Create the first convolution layer, channel input is 3 for RGB images, the output is selected to have 16\n",
    "        # filters, padding is set to 2 so we take as output the same dimensions as the original image.\n",
    "        # Formula to calculate the output shape of the convolution layer [(W−K+2P)/S]+1.\n",
    "        # out_shape_height = (7-3+0) + 1\n",
    "\n",
    "        self.Conv1 = nn.Conv2d(in_channels=in_channels, out_channels=out_channels_1,\n",
    "                               padding=1, kernel_size=kernel_size)\n",
    "        # Initialize the weights with the Xavier initialization method, and set bias to 0\n",
    "        nn.init.xavier_normal_(self.Conv1.weight)\n",
    "        nn.init.constant_(self.Conv1.bias,0)\n",
    "\n",
    "        self.layer1 = nn.Sequential(\n",
    "            self.Conv1,\n",
    "            nn.BatchNorm2d(out_channels_1),\n",
    "            nn.ReLU(),\n",
    "            nn.MaxPool2d(kernel_size=2)\n",
    "        )\n",
    "\n",
    "        self.Conv2 = nn.Conv2d(in_channels=out_channels_1, out_channels=out_channels_2,\n",
    "                               kernel_size=kernel_size)\n",
    "        nn.init.xavier_normal_(self.Conv2.weight)\n",
    "        nn.init.constant_(self.Conv2.bias, 0)\n",
    "\n",
    "        self.layer2 = nn.Sequential(\n",
    "            self.Conv2,\n",
    "            nn.BatchNorm2d(out_channels_2),\n",
    "            nn.ReLU(),\n",
    "            nn.MaxPool2d(kernel_size=2)\n",
    "        )\n",
    "\n",
    "        self.layer3 = nn.Sequential(\n",
    "            nn.Linear(32*5*5, out1_size),\n",
    "            nn.ReLU(),\n",
    "            nn.Dropout(0.5),\n",
    "            nn.Linear(out1_size, out2_size)\n",
    "        )\n",
    "\n",
    "    def forward(self, x):\n",
    "        out = self.layer1(x)\n",
    "        out = self.layer2(out)\n",
    "        out = out.reshape(out.size(0), -1)\n",
    "        out = self.layer3(out)\n",
    "\n",
    "\n",
    "        return F.log_softmax(out, dim=1)"
   ]
  },
  {
   "cell_type": "code",
   "execution_count": 9,
   "metadata": {},
   "outputs": [
    {
     "data": {
      "text/plain": [
       "ConvNet(\n",
       "  (Conv1): Conv2d(3, 16, kernel_size=(5, 5), stride=(1, 1), padding=(1, 1))\n",
       "  (layer1): Sequential(\n",
       "    (0): Conv2d(3, 16, kernel_size=(5, 5), stride=(1, 1), padding=(1, 1))\n",
       "    (1): BatchNorm2d(16, eps=1e-05, momentum=0.1, affine=True, track_running_stats=True)\n",
       "    (2): ReLU()\n",
       "    (3): MaxPool2d(kernel_size=2, stride=2, padding=0, dilation=1, ceil_mode=False)\n",
       "  )\n",
       "  (Conv2): Conv2d(16, 32, kernel_size=(5, 5), stride=(1, 1))\n",
       "  (layer2): Sequential(\n",
       "    (0): Conv2d(16, 32, kernel_size=(5, 5), stride=(1, 1))\n",
       "    (1): BatchNorm2d(32, eps=1e-05, momentum=0.1, affine=True, track_running_stats=True)\n",
       "    (2): ReLU()\n",
       "    (3): MaxPool2d(kernel_size=2, stride=2, padding=0, dilation=1, ceil_mode=False)\n",
       "  )\n",
       "  (layer3): Sequential(\n",
       "    (0): Linear(in_features=800, out_features=1000, bias=True)\n",
       "    (1): ReLU()\n",
       "    (2): Dropout(p=0.5, inplace=False)\n",
       "    (3): Linear(in_features=1000, out_features=10, bias=True)\n",
       "  )\n",
       ")"
      ]
     },
     "execution_count": 9,
     "metadata": {},
     "output_type": "execute_result"
    }
   ],
   "source": [
    "model = ConvNet()\n",
    "device = torch.device('cuda:0')\n",
    "model.to(device)"
   ]
  },
  {
   "cell_type": "code",
   "execution_count": 10,
   "metadata": {},
   "outputs": [],
   "source": [
    "learning_rate = 0.001\n",
    "criterion = nn.NLLLoss()\n",
    "optimizer = torch.optim.Adam(model.parameters(), lr=learning_rate)"
   ]
  },
  {
   "cell_type": "code",
   "execution_count": 11,
   "metadata": {},
   "outputs": [],
   "source": [
    "total_step = len(train_loader)\n",
    "num_epochs = 100\n",
    "loss_values = list()"
   ]
  },
  {
   "cell_type": "markdown",
   "metadata": {},
   "source": [
    "# Train the model"
   ]
  },
  {
   "cell_type": "code",
   "execution_count": 12,
   "metadata": {
    "scrolled": true
   },
   "outputs": [
    {
     "name": "stdout",
     "output_type": "stream",
     "text": [
      "Epoch [1/100], Step [2000/2290], Loss: 0.3175\n",
      "Epoch [2/100], Step [2000/2290], Loss: 0.2390\n",
      "Epoch [3/100], Step [2000/2290], Loss: 0.5874\n",
      "Epoch [4/100], Step [2000/2290], Loss: 0.2058\n",
      "Epoch [5/100], Step [2000/2290], Loss: 0.2941\n",
      "Epoch [6/100], Step [2000/2290], Loss: 0.3196\n",
      "Epoch [7/100], Step [2000/2290], Loss: 0.1036\n",
      "Epoch [8/100], Step [2000/2290], Loss: 0.0897\n",
      "Epoch [9/100], Step [2000/2290], Loss: 0.2926\n",
      "Epoch [10/100], Step [2000/2290], Loss: 0.2989\n",
      "Epoch [11/100], Step [2000/2290], Loss: 0.0787\n",
      "Epoch [12/100], Step [2000/2290], Loss: 0.2008\n",
      "Epoch [13/100], Step [2000/2290], Loss: 0.2504\n",
      "Epoch [14/100], Step [2000/2290], Loss: 0.0034\n",
      "Epoch [15/100], Step [2000/2290], Loss: 0.1034\n",
      "Epoch [16/100], Step [2000/2290], Loss: 0.2442\n",
      "Epoch [17/100], Step [2000/2290], Loss: 0.2296\n",
      "Epoch [18/100], Step [2000/2290], Loss: 0.1060\n",
      "Epoch [19/100], Step [2000/2290], Loss: 0.0356\n",
      "Epoch [20/100], Step [2000/2290], Loss: 0.0777\n",
      "Epoch [21/100], Step [2000/2290], Loss: 0.1049\n",
      "Epoch [22/100], Step [2000/2290], Loss: 0.0592\n",
      "Epoch [23/100], Step [2000/2290], Loss: 0.0449\n",
      "Epoch [24/100], Step [2000/2290], Loss: 0.1389\n",
      "Epoch [25/100], Step [2000/2290], Loss: 0.2607\n",
      "Epoch [26/100], Step [2000/2290], Loss: 0.0232\n",
      "Epoch [27/100], Step [2000/2290], Loss: 0.2262\n",
      "Epoch [28/100], Step [2000/2290], Loss: 0.1277\n",
      "Epoch [29/100], Step [2000/2290], Loss: 0.1928\n",
      "Epoch [30/100], Step [2000/2290], Loss: 0.0411\n",
      "Epoch [31/100], Step [2000/2290], Loss: 0.0113\n",
      "Epoch [32/100], Step [2000/2290], Loss: 0.0100\n",
      "Epoch [33/100], Step [2000/2290], Loss: 0.0440\n",
      "Epoch [34/100], Step [2000/2290], Loss: 0.1118\n",
      "Epoch [35/100], Step [2000/2290], Loss: 0.2050\n",
      "Epoch [36/100], Step [2000/2290], Loss: 0.0303\n",
      "Epoch [37/100], Step [2000/2290], Loss: 0.0168\n",
      "Epoch [38/100], Step [2000/2290], Loss: 0.1559\n",
      "Epoch [39/100], Step [2000/2290], Loss: 0.0380\n",
      "Epoch [40/100], Step [2000/2290], Loss: 0.0870\n",
      "Epoch [41/100], Step [2000/2290], Loss: 0.0241\n",
      "Epoch [42/100], Step [2000/2290], Loss: 0.0911\n",
      "Epoch [43/100], Step [2000/2290], Loss: 0.0069\n",
      "Epoch [44/100], Step [2000/2290], Loss: 0.0561\n",
      "Epoch [45/100], Step [2000/2290], Loss: 0.0266\n",
      "Epoch [46/100], Step [2000/2290], Loss: 0.1007\n",
      "Epoch [47/100], Step [2000/2290], Loss: 0.1194\n",
      "Epoch [48/100], Step [2000/2290], Loss: 0.0105\n",
      "Epoch [49/100], Step [2000/2290], Loss: 0.0404\n",
      "Epoch [50/100], Step [2000/2290], Loss: 0.0014\n",
      "Epoch [51/100], Step [2000/2290], Loss: 0.0687\n",
      "Epoch [52/100], Step [2000/2290], Loss: 0.0049\n",
      "Epoch [53/100], Step [2000/2290], Loss: 0.0115\n",
      "Epoch [54/100], Step [2000/2290], Loss: 0.0140\n",
      "Epoch [55/100], Step [2000/2290], Loss: 0.0001\n",
      "Epoch [56/100], Step [2000/2290], Loss: 0.0008\n",
      "Epoch [57/100], Step [2000/2290], Loss: 0.0014\n",
      "Epoch [58/100], Step [2000/2290], Loss: 0.0265\n",
      "Epoch [59/100], Step [2000/2290], Loss: 0.0001\n",
      "Epoch [60/100], Step [2000/2290], Loss: 0.0166\n",
      "Epoch [61/100], Step [2000/2290], Loss: 0.0354\n",
      "Epoch [62/100], Step [2000/2290], Loss: 0.0515\n",
      "Epoch [63/100], Step [2000/2290], Loss: 0.0003\n",
      "Epoch [64/100], Step [2000/2290], Loss: 0.3495\n",
      "Epoch [65/100], Step [2000/2290], Loss: 0.0107\n",
      "Epoch [66/100], Step [2000/2290], Loss: 0.0106\n",
      "Epoch [67/100], Step [2000/2290], Loss: 0.1106\n",
      "Epoch [68/100], Step [2000/2290], Loss: 0.0074\n",
      "Epoch [69/100], Step [2000/2290], Loss: 0.0053\n",
      "Epoch [70/100], Step [2000/2290], Loss: 0.0041\n",
      "Epoch [71/100], Step [2000/2290], Loss: 0.1567\n",
      "Epoch [72/100], Step [2000/2290], Loss: 0.1368\n",
      "Epoch [73/100], Step [2000/2290], Loss: 0.0001\n",
      "Epoch [74/100], Step [2000/2290], Loss: 0.0290\n",
      "Epoch [75/100], Step [2000/2290], Loss: 0.0040\n",
      "Epoch [76/100], Step [2000/2290], Loss: 0.0234\n",
      "Epoch [77/100], Step [2000/2290], Loss: 0.0726\n",
      "Epoch [78/100], Step [2000/2290], Loss: 0.0000\n",
      "Epoch [79/100], Step [2000/2290], Loss: 0.0005\n",
      "Epoch [80/100], Step [2000/2290], Loss: 0.0199\n",
      "Epoch [81/100], Step [2000/2290], Loss: 0.0822\n",
      "Epoch [82/100], Step [2000/2290], Loss: 0.0311\n",
      "Epoch [83/100], Step [2000/2290], Loss: 0.0010\n",
      "Epoch [84/100], Step [2000/2290], Loss: 0.0004\n",
      "Epoch [85/100], Step [2000/2290], Loss: 0.0007\n",
      "Epoch [86/100], Step [2000/2290], Loss: 0.0000\n",
      "Epoch [87/100], Step [2000/2290], Loss: 0.0202\n",
      "Epoch [88/100], Step [2000/2290], Loss: 0.0190\n",
      "Epoch [89/100], Step [2000/2290], Loss: 0.0127\n",
      "Epoch [90/100], Step [2000/2290], Loss: 0.0009\n",
      "Epoch [91/100], Step [2000/2290], Loss: 0.0002\n",
      "Epoch [92/100], Step [2000/2290], Loss: 0.0000\n",
      "Epoch [93/100], Step [2000/2290], Loss: 0.0002\n",
      "Epoch [94/100], Step [2000/2290], Loss: 0.0836\n",
      "Epoch [95/100], Step [2000/2290], Loss: 0.0221\n",
      "Epoch [96/100], Step [2000/2290], Loss: 0.0042\n",
      "Epoch [97/100], Step [2000/2290], Loss: 0.1494\n",
      "Epoch [98/100], Step [2000/2290], Loss: 0.0016\n",
      "Epoch [99/100], Step [2000/2290], Loss: 0.0676\n",
      "Epoch [100/100], Step [2000/2290], Loss: 0.0000\n",
      "Finish training\n"
     ]
    }
   ],
   "source": [
    "for epoch in range(num_epochs):\n",
    "    for i, (images, labels) in enumerate(train_loader):\n",
    "        images, labels = images.to(device), labels.to(device)\n",
    "        outputs = model(images)\n",
    "        loss = criterion(outputs, labels)\n",
    "\n",
    "        optimizer.zero_grad()\n",
    "        loss.backward()\n",
    "        optimizer.step()\n",
    "\n",
    "        if (i + 1) % 2000==0:\n",
    "            os.system('cls')\n",
    "            print(\"Epoch [{}/{}], Step [{}/{}], Loss: {:.4f}\"\n",
    "                  .format(epoch + 1, num_epochs, i + 1, total_step, loss.item()))\n",
    "            loss_values.append(loss.item())\n",
    "            \n",
    "\n",
    "print(\"Finish training\")"
   ]
  },
  {
   "cell_type": "markdown",
   "metadata": {},
   "source": [
    "## Plot the results"
   ]
  },
  {
   "cell_type": "code",
   "execution_count": 14,
   "metadata": {},
   "outputs": [
    {
     "data": {
      "image/png": "[encoded data removed]",
      "text/plain": [
       "<Figure size 864x720 with 1 Axes>"
      ]
     },
     "metadata": {
      "needs_background": "light"
     },
     "output_type": "display_data"
    }
   ],
   "source": [
    "x=(range(1,num_epochs+1))\n",
    "\n",
    "plt.figure(figsize=(10, 5))\n",
    "plt.plot(x, loss_values)\n",
    "plt.xlabel('Step')\n",
    "plt.ylabel('Loss')\n",
    "plt.show()"
   ]
  },
  {
   "cell_type": "markdown",
   "metadata": {},
   "source": [
    "## Evaluate the model"
   ]
  },
  {
   "cell_type": "code",
   "execution_count": 15,
   "metadata": {},
   "outputs": [
    {
     "name": "stdout",
     "output_type": "stream",
     "text": [
      "Accuracy of the model on the test images: 92.1212%)\n"
     ]
    }
   ],
   "source": [
    "model.eval()\n",
    "\n",
    "with torch.no_grad():\n",
    "    correct = 0\n",
    "    total = 0\n",
    "    for images, labels in test_loader:\n",
    "        images, labels = images.to(device), labels.to(device)\n",
    "        outputs = model(images)\n",
    "        _, predicted = torch.max(outputs.data, 1)\n",
    "        total += labels.size(0)\n",
    "        correct += (predicted==labels).sum().item()\n",
    "        \n",
    "    print('Accuracy of the model on the test images: {:.4f}%)'.format(100*correct / total))"
   ]
  },
  {
   "cell_type": "markdown",
   "metadata": {},
   "source": [
    "## Test model's perfomance"
   ]
  },
  {
   "cell_type": "code",
   "execution_count": 60,
   "metadata": {
    "scrolled": false
   },
   "outputs": [
    {
     "name": "stdout",
     "output_type": "stream",
     "text": [
      "True Label:  1  Predicted Label:  1\n"
     ]
    },
    {
     "data": {
      "image/png": "[encoded data removed]",
      "text/plain": [
       "<Figure size 432x288 with 1 Axes>"
      ]
     },
     "metadata": {
      "needs_background": "light"
     },
     "output_type": "display_data"
    },
    {
     "name": "stdout",
     "output_type": "stream",
     "text": [
      "-------------\n",
      "True Label:  7  Predicted Label:  7\n"
     ]
    },
    {
     "data": {
      "image/png": "[encoded data removed]",
      "text/plain": [
       "<Figure size 432x288 with 1 Axes>"
      ]
     },
     "metadata": {
      "needs_background": "light"
     },
     "output_type": "display_data"
    },
    {
     "name": "stdout",
     "output_type": "stream",
     "text": [
      "-------------\n",
      "True Label:  4  Predicted Label:  4\n"
     ]
    },
    {
     "data": {
      "image/png": "[encoded data removed]",
      "text/plain": [
       "<Figure size 432x288 with 1 Axes>"
      ]
     },
     "metadata": {
      "needs_background": "light"
     },
     "output_type": "display_data"
    },
    {
     "name": "stdout",
     "output_type": "stream",
     "text": [
      "-------------\n",
      "True Label:  0  Predicted Label:  0\n"
     ]
    },
    {
     "data": {
      "image/png": "[encoded data removed]",
      "text/plain": [
       "<Figure size 432x288 with 1 Axes>"
      ]
     },
     "metadata": {
      "needs_background": "light"
     },
     "output_type": "display_data"
    },
    {
     "name": "stdout",
     "output_type": "stream",
     "text": [
      "-------------\n",
      "True Label:  5  Predicted Label:  5\n"
     ]
    },
    {
     "data": {
      "image/png": "[encoded data removed]",
      "text/plain": [
       "<Figure size 432x288 with 1 Axes>"
      ]
     },
     "metadata": {
      "needs_background": "light"
     },
     "output_type": "display_data"
    },
    {
     "name": "stdout",
     "output_type": "stream",
     "text": [
      "-------------\n"
     ]
    }
   ],
   "source": [
    "with torch.no_grad():\n",
    "    images, labels = iter(test_loader).next()\n",
    "    images = images.to(device)\n",
    "    out_predict = model(images)\n",
    "    _, predicted = torch.max(out_predict.data,1)\n",
    "    for idx, each_image in enumerate(images[:5]):\n",
    "        each_image = each_image.cpu().permute(1,2,0).numpy()\n",
    "        image_label = labels[idx].cpu().numpy().squeeze()\n",
    "        print(\"True Label: \", image_label, \" Predicted Label: \",predicted[idx].cpu().numpy().squeeze()  )\n",
    "        plt.imshow(each_image)\n",
    "        plt.show()\n",
    "        print(\"-------------\")\n",
    "        "
   ]
  },
  {
   "cell_type": "code",
   "execution_count": null,
   "metadata": {},
   "outputs": [],
   "source": []
  }
 ],
 "metadata": {
  "kernelspec": {
   "display_name": "Python 3",
   "language": "python",
   "name": "python3"
  },
  "language_info": {
   "codemirror_mode": {
    "name": "ipython",
    "version": 3
   },
   "file_extension": ".py",
   "mimetype": "text/x-python",
   "name": "python",
   "nbconvert_exporter": "python",
   "pygments_lexer": "ipython3",
   "version": "3.6.11"
  }
 },
 "nbformat": 4,
 "nbformat_minor": 4
}
